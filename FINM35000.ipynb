{
 "cells": [
  {
   "cell_type": "markdown",
   "id": "49d9c2df-13b6-4f0e-ad04-17f207662bd7",
   "metadata": {},
   "source": [
    "# Topics in Economics\n",
    "## Project 1"
   ]
  },
  {
   "cell_type": "markdown",
   "id": "20cf2d52-a00a-4f0b-b2fa-8713d429f35b",
   "metadata": {},
   "source": [
    "### Import Statements"
   ]
  },
  {
   "cell_type": "code",
   "execution_count": 1,
   "id": "cabff6eb-0478-4d26-a55d-0636c506f1b2",
   "metadata": {},
   "outputs": [],
   "source": [
    "import pandas as pd\n",
    "import matplotlib.pyplot as plt\n",
    "from fredapi import Fred"
   ]
  },
  {
   "cell_type": "markdown",
   "id": "bdbdba64-7a77-4985-81ac-01a0eeb808a1",
   "metadata": {},
   "source": [
    "### API Key"
   ]
  },
  {
   "cell_type": "code",
   "execution_count": 2,
   "id": "1a979add-5967-4cc2-b363-bd87810f5fc8",
   "metadata": {},
   "outputs": [],
   "source": [
    "fred_api_key = '6014571ef89b16f87265e5d0b7644011' \n",
    "fred = Fred(api_key=fred_api_key)"
   ]
  },
  {
   "cell_type": "markdown",
   "id": "f809d010-117d-4287-93c9-c898f243b930",
   "metadata": {},
   "source": [
    "### Data Extraction"
   ]
  },
  {
   "cell_type": "code",
   "execution_count": 7,
   "id": "21f92598-9379-4ac7-ac50-3c655283e5ec",
   "metadata": {},
   "outputs": [
    {
     "data": {
      "text/html": [
       "<div>\n",
       "<style scoped>\n",
       "    .dataframe tbody tr th:only-of-type {\n",
       "        vertical-align: middle;\n",
       "    }\n",
       "\n",
       "    .dataframe tbody tr th {\n",
       "        vertical-align: top;\n",
       "    }\n",
       "\n",
       "    .dataframe thead th {\n",
       "        text-align: right;\n",
       "    }\n",
       "</style>\n",
       "<table border=\"1\" class=\"dataframe\">\n",
       "  <thead>\n",
       "    <tr style=\"text-align: right;\">\n",
       "      <th></th>\n",
       "      <th>DFEDTAR</th>\n",
       "      <th>DFEDTARU</th>\n",
       "      <th>Final_Rate</th>\n",
       "      <th>Change_Target_Rate</th>\n",
       "    </tr>\n",
       "  </thead>\n",
       "  <tbody>\n",
       "    <tr>\n",
       "      <th>1982-09-27</th>\n",
       "      <td>10.25</td>\n",
       "      <td>NaN</td>\n",
       "      <td>10.25</td>\n",
       "      <td>NaN</td>\n",
       "    </tr>\n",
       "    <tr>\n",
       "      <th>1982-09-28</th>\n",
       "      <td>10.25</td>\n",
       "      <td>NaN</td>\n",
       "      <td>10.25</td>\n",
       "      <td>0.00</td>\n",
       "    </tr>\n",
       "    <tr>\n",
       "      <th>1982-09-29</th>\n",
       "      <td>10.25</td>\n",
       "      <td>NaN</td>\n",
       "      <td>10.25</td>\n",
       "      <td>0.00</td>\n",
       "    </tr>\n",
       "    <tr>\n",
       "      <th>1982-09-30</th>\n",
       "      <td>10.25</td>\n",
       "      <td>NaN</td>\n",
       "      <td>10.25</td>\n",
       "      <td>0.00</td>\n",
       "    </tr>\n",
       "    <tr>\n",
       "      <th>1982-10-01</th>\n",
       "      <td>10.00</td>\n",
       "      <td>NaN</td>\n",
       "      <td>10.00</td>\n",
       "      <td>-0.25</td>\n",
       "    </tr>\n",
       "    <tr>\n",
       "      <th>...</th>\n",
       "      <td>...</td>\n",
       "      <td>...</td>\n",
       "      <td>...</td>\n",
       "      <td>...</td>\n",
       "    </tr>\n",
       "    <tr>\n",
       "      <th>2024-10-23</th>\n",
       "      <td>NaN</td>\n",
       "      <td>5.0</td>\n",
       "      <td>5.00</td>\n",
       "      <td>0.00</td>\n",
       "    </tr>\n",
       "    <tr>\n",
       "      <th>2024-10-24</th>\n",
       "      <td>NaN</td>\n",
       "      <td>5.0</td>\n",
       "      <td>5.00</td>\n",
       "      <td>0.00</td>\n",
       "    </tr>\n",
       "    <tr>\n",
       "      <th>2024-10-25</th>\n",
       "      <td>NaN</td>\n",
       "      <td>5.0</td>\n",
       "      <td>5.00</td>\n",
       "      <td>0.00</td>\n",
       "    </tr>\n",
       "    <tr>\n",
       "      <th>2024-10-26</th>\n",
       "      <td>NaN</td>\n",
       "      <td>5.0</td>\n",
       "      <td>5.00</td>\n",
       "      <td>0.00</td>\n",
       "    </tr>\n",
       "    <tr>\n",
       "      <th>2024-10-27</th>\n",
       "      <td>NaN</td>\n",
       "      <td>5.0</td>\n",
       "      <td>5.00</td>\n",
       "      <td>0.00</td>\n",
       "    </tr>\n",
       "  </tbody>\n",
       "</table>\n",
       "<p>15372 rows × 4 columns</p>\n",
       "</div>"
      ],
      "text/plain": [
       "            DFEDTAR  DFEDTARU  Final_Rate  Change_Target_Rate\n",
       "1982-09-27    10.25       NaN       10.25                 NaN\n",
       "1982-09-28    10.25       NaN       10.25                0.00\n",
       "1982-09-29    10.25       NaN       10.25                0.00\n",
       "1982-09-30    10.25       NaN       10.25                0.00\n",
       "1982-10-01    10.00       NaN       10.00               -0.25\n",
       "...             ...       ...         ...                 ...\n",
       "2024-10-23      NaN       5.0        5.00                0.00\n",
       "2024-10-24      NaN       5.0        5.00                0.00\n",
       "2024-10-25      NaN       5.0        5.00                0.00\n",
       "2024-10-26      NaN       5.0        5.00                0.00\n",
       "2024-10-27      NaN       5.0        5.00                0.00\n",
       "\n",
       "[15372 rows x 4 columns]"
      ]
     },
     "execution_count": 7,
     "metadata": {},
     "output_type": "execute_result"
    }
   ],
   "source": [
    "dfedtar_data = fred.get_series('DFEDTAR')\n",
    "dfedtaru_data = fred.get_series('DFEDTARU')\n",
    "\n",
    "data = pd.DataFrame({'DFEDTAR': dfedtar_data, 'DFEDTARU': dfedtaru_data})\n",
    "\n",
    "cutoff_date = pd.Timestamp('2008-12-15')\n",
    "data['Final_Rate'] = data.apply(\n",
    "    lambda row: row['DFEDTAR'] if row.name <= cutoff_date else row['DFEDTARU'], axis=1\n",
    ")\n",
    "\n",
    "data['Change_Target_Rate'] = data['Final_Rate'].diff()\n",
    "data"
   ]
  },
  {
   "cell_type": "code",
   "execution_count": 8,
   "id": "596b3c37-4baf-4ead-82dd-eaa94fefb860",
   "metadata": {},
   "outputs": [
    {
     "name": "stdout",
     "output_type": "stream",
     "text": [
      "Number of NaNs in Final_Rate: 0\n"
     ]
    }
   ],
   "source": [
    "nan_count = data['Final_Rate'].isna().sum()\n",
    "print(f'Number of NaNs in Final_Rate: {nan_count}')"
   ]
  }
 ],
 "metadata": {
  "kernelspec": {
   "display_name": "Python 3 (ipykernel)",
   "language": "python",
   "name": "python3"
  },
  "language_info": {
   "codemirror_mode": {
    "name": "ipython",
    "version": 3
   },
   "file_extension": ".py",
   "mimetype": "text/x-python",
   "name": "python",
   "nbconvert_exporter": "python",
   "pygments_lexer": "ipython3",
   "version": "3.11.7"
  }
 },
 "nbformat": 4,
 "nbformat_minor": 5
}
